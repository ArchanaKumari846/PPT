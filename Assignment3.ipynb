{
 "cells": [
  {
   "cell_type": "markdown",
   "id": "8a54cfe6-1823-4c38-bfca-c8bcf6fdf573",
   "metadata": {},
   "source": [
    "## Assignment 3"
   ]
  },
  {
   "cell_type": "markdown",
   "id": "aa9e1de3-9968-449c-af12-f5e9648affe0",
   "metadata": {},
   "source": [
    "#### 1. Scenario: A company wants to analyze the sales performance of its products in different regions. They have collected the following data:\n",
    "\n",
    "   Region A: [10, 15, 12, 8, 14]\n",
    "   \n",
    "   Region B: [18, 20, 16, 22, 25]\n",
    "   \n",
    "#### Calculate the mean sales for each region.\n"
   ]
  },
  {
   "cell_type": "code",
   "execution_count": 24,
   "id": "9cb49410-9a6e-456e-887a-da570190eb22",
   "metadata": {},
   "outputs": [],
   "source": [
    "import statistics\n",
    "from scipy import stats\n",
    "import numpy as np"
   ]
  },
  {
   "cell_type": "code",
   "execution_count": 7,
   "id": "97d9746f-aea0-4e96-9dad-b7ca61fa6ddb",
   "metadata": {},
   "outputs": [],
   "source": [
    "Region_A= [10, 15, 12, 8, 14]\n",
    "\n",
    "Region_B= [18, 20, 16, 22, 25]"
   ]
  },
  {
   "cell_type": "code",
   "execution_count": 8,
   "id": "6efffd7b-9213-461d-a6ca-8d83163ad928",
   "metadata": {},
   "outputs": [
    {
     "name": "stdout",
     "output_type": "stream",
     "text": [
      "Mean sales for Region A: 11.8\n",
      "Mean sales for Region B: 20.2\n"
     ]
    }
   ],
   "source": [
    "mean_Region_A= sum(Region_A) / len(Region_A)\n",
    "mean_Region_B= sum(Region_B) / len(Region_B)\n",
    "\n",
    "print(\"Mean sales for Region A:\",mean_Region_A)\n",
    "print(\"Mean sales for Region B:\",mean_Region_B)"
   ]
  },
  {
   "cell_type": "markdown",
   "id": "f77bebd9-feb9-4ce6-9420-77678f5e2c5a",
   "metadata": {},
   "source": [
    "#### Another way to calculate mean by using statistics"
   ]
  },
  {
   "cell_type": "code",
   "execution_count": 10,
   "id": "81fc3b75-c728-4e7d-bbd4-d28841e9d6f8",
   "metadata": {},
   "outputs": [
    {
     "name": "stdout",
     "output_type": "stream",
     "text": [
      "Mean sales for Region A: 11.8\n"
     ]
    }
   ],
   "source": [
    "print(\"Mean sales for Region A:\", statistics.mean(Region_A))"
   ]
  },
  {
   "cell_type": "code",
   "execution_count": 11,
   "id": "0364da6d-2037-4c19-a1d6-f2d6de5d7ad4",
   "metadata": {},
   "outputs": [
    {
     "name": "stdout",
     "output_type": "stream",
     "text": [
      "Mean sales for Region B: 20.2\n"
     ]
    }
   ],
   "source": [
    "print(\"Mean sales for Region B:\", statistics.mean(Region_B))"
   ]
  },
  {
   "cell_type": "markdown",
   "id": "2174ca4d-2c63-489b-9bb5-35245c1134b7",
   "metadata": {},
   "source": [
    "### 2. Scenario: A survey is conducted to measure customer satisfaction on a scale of 1 to 5. The data collected is as follows:\n",
    "  \n",
    "    [4, 5, 2, 3, 5, 4, 3, 2, 4, 5]\n",
    "  \n",
    "### Calculate the mode of the survey responses."
   ]
  },
  {
   "cell_type": "code",
   "execution_count": 24,
   "id": "66263b6a-43c5-4fe2-b4af-a13b8cc3e128",
   "metadata": {},
   "outputs": [
    {
     "name": "stdout",
     "output_type": "stream",
     "text": [
      "The mode of the survey responses: 4\n"
     ]
    }
   ],
   "source": [
    "satisfaction= [4, 5, 2, 3, 5, 4, 3, 2, 4, 5]\n",
    "print(\"The mode of the survey responses:\", statistics.mode(satisfaction))"
   ]
  },
  {
   "cell_type": "markdown",
   "id": "2724fb89-d9ac-4191-a684-e678c63d1064",
   "metadata": {},
   "source": [
    "### 3. Scenario: A company wants to compare the salaries of two departments. The salary data for Department A and Department B are as follows:\n",
    "\n",
    "   Department A: [5000, 6000, 5500, 7000]\n",
    "   \n",
    "   Department B: [4500, 5500, 5800, 6000, 5200]\n",
    "   \n",
    "#### Calculate the median salary for each department."
   ]
  },
  {
   "cell_type": "code",
   "execution_count": 10,
   "id": "d34fa01e-f94d-4116-9ee9-5273ff6723ff",
   "metadata": {},
   "outputs": [
    {
     "name": "stdout",
     "output_type": "stream",
     "text": [
      "The median salary for each Department_A: 5750.0\n",
      "The median salary for each Department_B: 5500\n"
     ]
    }
   ],
   "source": [
    "Department_A= [5000, 6000, 5500, 7000]\n",
    "\n",
    "Department_B= [4500, 5500, 5800, 6000, 5200]\n",
    "\n",
    "print(\"The median salary for each Department_A:\", statistics.median(Department_A))\n",
    "\n",
    "print(\"The median salary for each Department_B:\", statistics.median(Department_B))"
   ]
  },
  {
   "cell_type": "markdown",
   "id": "e3ba7c4f-d28b-4c82-8805-32c89a78c7ba",
   "metadata": {},
   "source": [
    "### 4. Scenario: A data analyst wants to determine the variability in the daily stock prices of a company. The data collected is as follows:\n",
    "  \n",
    "    [25.5, 24.8, 26.1, 25.3, 24.9]\n",
    "    \n",
    "#### Calculate the range of the stock prices."
   ]
  },
  {
   "cell_type": "code",
   "execution_count": 2,
   "id": "792974af-69d7-4731-a1d5-4a0ac90ae18a",
   "metadata": {},
   "outputs": [
    {
     "name": "stdout",
     "output_type": "stream",
     "text": [
      "The range of the stock prices: 1.3000000000000007\n"
     ]
    }
   ],
   "source": [
    "data= [25.5, 24.8, 26.1, 25.3, 24.9]\n",
    "price= max(data)-min(data)\n",
    "print(\"The range of the stock prices:\", price)"
   ]
  },
  {
   "cell_type": "markdown",
   "id": "d675e402-796d-43eb-9ff9-28e0cda09c2c",
   "metadata": {},
   "source": [
    "### 5. Scenario: A study is conducted to compare the performance of two different teaching methods. The test scores of the students in each group are as follows:\n",
    "   \n",
    "   Group A: [85, 90, 92, 88, 91]\n",
    "   \n",
    "   Group B: [82, 88, 90, 86, 87]\n",
    "   \n",
    "#### Perform a t-test to determine if there is a significant difference in the mean scores between the two groups.\n"
   ]
  },
  {
   "cell_type": "code",
   "execution_count": 14,
   "id": "5824bd33-c760-4759-b23a-9fb9cf1924ae",
   "metadata": {},
   "outputs": [
    {
     "name": "stdout",
     "output_type": "stream",
     "text": [
      "p_value: 0.19023970239078333\n",
      "There is no significant difference in the mean scores between the two groups.\n"
     ]
    }
   ],
   "source": [
    "Group_A= [85, 90, 92, 88, 91]\n",
    "Group_B= [82, 88, 90, 86, 87]\n",
    "\n",
    "t_statistic, p_value = stats.ttest_ind(Group_A, Group_B)\n",
    "print('p_value:', p_value )\n",
    "\n",
    "if p_value < 0.05:\n",
    "    print(\"There is a significant difference in the mean scores between the two groups.\")\n",
    "else:\n",
    "    print(\"There is no significant difference in the mean scores between the two groups.\")"
   ]
  },
  {
   "cell_type": "markdown",
   "id": "86769a1b-4e8f-4ef4-ac23-7fdaaff879f7",
   "metadata": {},
   "source": [
    "### 6. Scenario: A company wants to analyze the relationship between advertising expenditure and sales. The data collected is as follows:\n",
    "\n",
    "   Advertising Expenditure (in thousands): [10, 15, 12, 8, 14]\n",
    "   \n",
    "   Sales (in thousands): [25, 30, 28, 20, 26]\n",
    "   \n",
    "#### Calculate the correlation coefficient between advertising expenditure and sales."
   ]
  },
  {
   "cell_type": "code",
   "execution_count": 17,
   "id": "0c9c7b6a-5217-4fa1-81ff-1e73e1492f7c",
   "metadata": {},
   "outputs": [
    {
     "name": "stdout",
     "output_type": "stream",
     "text": [
      "Correlation coefficient: 0.8757511375750133\n"
     ]
    }
   ],
   "source": [
    "Advertising_Expenditure= [10, 15, 12, 8, 14]\n",
    "\n",
    "Sale = [25, 30, 28, 20, 26]\n",
    "\n",
    "correlation, p_value = stats.pearsonr(Advertising_Expenditure, Sale)\n",
    "\n",
    "print(\"Correlation coefficient:\", correlation)"
   ]
  },
  {
   "cell_type": "markdown",
   "id": "1d4c1b65-33cf-47a8-b11e-aba191589404",
   "metadata": {},
   "source": [
    "### 7. Scenario: A survey is conducted to measure the heights of a group of people. The data collected is as follows:\n",
    "   \n",
    "   [160, 170, 165, 155, 175, 180, 170]\n",
    "   \n",
    "#### Calculate the standard deviation of the heights."
   ]
  },
  {
   "cell_type": "code",
   "execution_count": 18,
   "id": "4cfb0214-e458-42c4-b200-fada74febcd1",
   "metadata": {},
   "outputs": [
    {
     "name": "stdout",
     "output_type": "stream",
     "text": [
      "Standard deviation of the heights: 8.591246929842246\n"
     ]
    }
   ],
   "source": [
    "heights = [160, 170, 165, 155, 175, 180, 170]\n",
    "\n",
    "standard_deviation = statistics.stdev(heights)\n",
    "\n",
    "print(\"Standard deviation of the heights:\", standard_deviation)"
   ]
  },
  {
   "cell_type": "markdown",
   "id": "a260b439-7702-4773-b1c0-d765213ed3b6",
   "metadata": {},
   "source": [
    "### 8. Scenario: A company wants to analyze the relationship between employee tenure and job satisfaction. The data collected is \n",
    "   Job Satisfaction (on a scale of 1 to 10): [7, 8, 6, 9, 5, 7, 6]\n",
    "   as follows:\n",
    "   \n",
    "   Employee Tenure (in years): [2, 3, 5, 4, 6, 2, 4]\n",
    "  \n",
    "#### Perform a linear regression analysis to predict job satisfaction based on employee tenure."
   ]
  },
  {
   "cell_type": "code",
   "execution_count": 20,
   "id": "d8e0fa34-4b67-4028-bf6a-6ac7f6ce011d",
   "metadata": {},
   "outputs": [
    {
     "name": "stdout",
     "output_type": "stream",
     "text": [
      "Slope: -0.4680851063829787 \n",
      "Intercept: 8.595744680851062 \n",
      "R-value: -0.520573376708331 \n",
      "P-value: 0.23095550952297988 \n",
      "Standard error: 0.34333860006713723\n"
     ]
    }
   ],
   "source": [
    "Job_Satisfaction = [7, 8, 6, 9, 5, 7, 6] \n",
    "\n",
    "Employee_Tenure = [2, 3, 5, 4, 6, 2, 4]\n",
    "\n",
    "slope, intercept, r_value, p_value, std_err = stats.linregress(Employee_Tenure, Job_Satisfaction)\n",
    "\n",
    "print(\"Slope:\", slope, \"\\nIntercept:\", intercept, \"\\nR-value:\", r_value, \"\\nP-value:\", p_value, \"\\nStandard error:\", std_err)"
   ]
  },
  {
   "cell_type": "markdown",
   "id": "d3b3de58-98c2-4039-a5e4-2fb09af8f2d6",
   "metadata": {},
   "source": [
    "### 9. Scenario: A study is conducted to compare the effectiveness of two different medications. The recovery times of the patients in each group are as follows:\n",
    "\n",
    "   Medication A: [10, 12, 14, 11, 13]\n",
    "   \n",
    "   Medication B: [15, 17, 16, 14, 18]\n",
    "   \n",
    "#### Perform an analysis of variance (ANOVA) to determine if there is a significant difference in the mean recovery times between the two medications."
   ]
  },
  {
   "cell_type": "code",
   "execution_count": 22,
   "id": "841d4d6c-0f04-4f0c-84b7-bee2337c6306",
   "metadata": {},
   "outputs": [
    {
     "name": "stdout",
     "output_type": "stream",
     "text": [
      "p_value: 0.003949772803445326\n",
      "There is a significant difference in the mean recovery times between the two medications.\n"
     ]
    }
   ],
   "source": [
    "Medication_A = [10, 12, 14, 11, 13]\n",
    "\n",
    "Medication_B = [15, 17, 16, 14, 18]\n",
    "\n",
    "f_statistic, p_value = stats.f_oneway(Medication_A, Medication_B)\n",
    "\n",
    "print(\"p_value:\",p_value)\n",
    "      \n",
    "if p_value < 0.05:\n",
    "    print(\"There is a significant difference in the mean recovery times between the two medications.\")\n",
    "else:\n",
    "    print(\"There is no significant difference in the mean recovery times between the two medications.\")"
   ]
  },
  {
   "cell_type": "markdown",
   "id": "cd1d19c6-043e-4084-b790-c69df39d5d46",
   "metadata": {},
   "source": [
    "### 10. Scenario: A company wants to analyze customer feedback ratings on a scale of 1 to 10. The data collected is as follows:\n",
    "    \n",
    "    [8, 9, 7, 6, 8, 10, 9, 8, 7, 8]\n",
    "    \n",
    "#### Calculate the 75th percentile of the feedback ratings."
   ]
  },
  {
   "cell_type": "code",
   "execution_count": 25,
   "id": "a8beca37-ba92-42c7-b78b-557fd1091a8a",
   "metadata": {},
   "outputs": [
    {
     "name": "stdout",
     "output_type": "stream",
     "text": [
      "75th percentile of feedback ratings: 8.75\n"
     ]
    }
   ],
   "source": [
    "feedback_ratings = [8, 9, 7, 6, 8, 10, 9, 8, 7, 8]\n",
    "\n",
    "percentile = np.percentile(feedback_ratings, 75)\n",
    "\n",
    "print(\"75th percentile of feedback ratings:\", percentile)"
   ]
  },
  {
   "cell_type": "markdown",
   "id": "f8067fb3-cce3-49c6-b867-5b1744aace4f",
   "metadata": {},
   "source": [
    "### 11. Scenario: A quality control department wants to test the weight consistency of a product. The weights of a sample of products are as follows:\n",
    "    \n",
    "    [10.2, 9.8, 10.0, 10.5, 10.3, 10.1]\n",
    "    \n",
    "#### Perform a hypothesis test to determine if the mean weight differs significantly from 10 grams."
   ]
  },
  {
   "cell_type": "code",
   "execution_count": 27,
   "id": "7c79fb3d-4f7c-4ce3-a9a6-6f454fc3c439",
   "metadata": {},
   "outputs": [
    {
     "name": "stdout",
     "output_type": "stream",
     "text": [
      "p_value: 0.003949772803445326\n",
      "The mean weight does not differ significantly from 10 grams.\n"
     ]
    }
   ],
   "source": [
    "weights = [10.2, 9.8, 10.0, 10.5, 10.3, 10.1]\n",
    "\n",
    "mean_weight = stats.ttest_1samp(weights, 10)\n",
    "\n",
    "print(\"p_value:\",p_value)\n",
    "\n",
    "if mean_weight.pvalue < 0.05:\n",
    "    print(\"The mean weight differs significantly from 10 grams.\")\n",
    "else:\n",
    "    print(\"The mean weight does not differ significantly from 10 grams.\")"
   ]
  },
  {
   "cell_type": "markdown",
   "id": "4086eb1a-f9ac-42ec-a83c-4202c65f9b03",
   "metadata": {},
   "source": [
    "### 12. Scenario: A company wants to analyze the click-through rates of two different website designs. The number of clicks for each design is as follows:\n",
    "    \n",
    "    Design A: [100, 120, 110, 90, 95]\n",
    "    \n",
    "    Design B: [80, 85, 90, 95, 100]\n",
    "    \n",
    "#### Perform a chi-square test to determine if there is a significant difference in the click-through rates between the two designs."
   ]
  },
  {
   "cell_type": "code",
   "execution_count": 30,
   "id": "cdd904e4-07f3-4fac-9c99-45e399f3ae3b",
   "metadata": {},
   "outputs": [],
   "source": [
    "from scipy.stats import chisquare"
   ]
  },
  {
   "cell_type": "code",
   "execution_count": 35,
   "id": "97647dcc-8f53-444c-8cfd-eae0e7438c5f",
   "metadata": {},
   "outputs": [
    {
     "name": "stdout",
     "output_type": "stream",
     "text": [
      "p_value: [0.13603713 0.01450507 0.15729921 0.71316606 0.72030033]\n",
      "There is a significant difference in the click-through rates between the two designs.\n"
     ]
    }
   ],
   "source": [
    "Design_A = [100, 120, 110, 90, 95]\n",
    "\n",
    "Design_B = [80, 85, 90, 95, 100]\n",
    "\n",
    "chi2_stat, p_value = chisquare([Design_A, Design_B])\n",
    "\n",
    "print(\"p_value:\",p_value)\n",
    "\n",
    "if any(p_value < 0.05):\n",
    "    print(\"There is a significant difference in the click-through rates between the two designs.\")\n",
    "else:\n",
    "    print(\"There is no significant difference in the click-through rates between the two designs.\")"
   ]
  },
  {
   "cell_type": "markdown",
   "id": "a205a9fe-c485-4134-8fcf-765e47fc86f5",
   "metadata": {},
   "source": [
    "### 13. Scenario: A survey is conducted to measure customer satisfaction with a product on a scale of 1 to 10. The data collected is as follows:\n",
    "    \n",
    "    [7, 9, 6, 8, 10, 7, 8, 9, 7, 8]\n",
    "    \n",
    "#### Calculate the 95% confidence interval for the population mean satisfaction score."
   ]
  },
  {
   "cell_type": "code",
   "execution_count": 37,
   "id": "f20c2603-35d0-4d01-9c53-714bba2a5f50",
   "metadata": {},
   "outputs": [],
   "source": [
    "import scipy"
   ]
  },
  {
   "cell_type": "code",
   "execution_count": 38,
   "id": "462206c6-695d-4ad8-bd68-445f68a2d576",
   "metadata": {},
   "outputs": [
    {
     "name": "stdout",
     "output_type": "stream",
     "text": [
      "95% Confidence Interval for the mean satisfaction score: (7.043561120599888, 8.756438879400113)\n"
     ]
    }
   ],
   "source": [
    "satisfaction_score = [7, 9, 6, 8, 10, 7, 8, 9, 7, 8]\n",
    "\n",
    "confidence_interval = scipy.stats.t.interval(0.95, len(satisfaction_score) - 1,\n",
    "                                            loc=np.mean(satisfaction_score),\n",
    "                                            scale=scipy.stats.sem(satisfaction_score))\n",
    "\n",
    "print(\"95% Confidence Interval for the mean satisfaction score:\", confidence_interval)"
   ]
  },
  {
   "cell_type": "markdown",
   "id": "1dbb30b2-cec1-4889-8002-25333269d0c4",
   "metadata": {},
   "source": [
    "### 14. Scenario: A company wants to analyze the effect of temperature on product performance. The data collected is as follows:\n",
    "   \n",
    "   Temperature (in degrees Celsius): [20, 22, 23, 19, 21]\n",
    "   \n",
    "   Performance (on a scale of 1 to 10): [8, 7, 9, 6, 8]\n",
    "   \n",
    "#### Perform a simple linear regression to predict performance based on temperature."
   ]
  },
  {
   "cell_type": "code",
   "execution_count": 39,
   "id": "cb4787e6-bc67-4d1d-a2cb-db989845f3df",
   "metadata": {},
   "outputs": [
    {
     "name": "stdout",
     "output_type": "stream",
     "text": [
      "Slope: 0.5\n",
      "Intercept: -2.9000000000000004\n",
      "R-value: 0.6933752452815364\n",
      "P-value: 0.19417134561205843\n",
      "Standard error: 0.30000000000000004\n"
     ]
    }
   ],
   "source": [
    "temperature = [20, 22, 23, 19, 21]\n",
    "performance = [8, 7, 9, 6, 8]\n",
    "\n",
    "slope, intercept, r_value, p_value, std_err = scipy.stats.linregress(temperature, performance)\n",
    "\n",
    "print(\"Slope:\", slope)\n",
    "print(\"Intercept:\", intercept)\n",
    "print(\"R-value:\", r_value)\n",
    "print(\"P-value:\", p_value)\n",
    "print(\"Standard error:\", std_err)"
   ]
  },
  {
   "cell_type": "markdown",
   "id": "0a47affa-ef62-4249-8059-be5e9b095c65",
   "metadata": {},
   "source": [
    "### 15. Scenario: A study is conducted to compare the preferences of two groups of participants. The preferences are measured on a Likert scale from 1 to 5. The data collected is as follows:\n",
    "   \n",
    "   Group A: [4, 3, 5, 2, 4]\n",
    "   \n",
    "   Group B: [3, 2, 4, 3, 3]\n",
    "   \n",
    "#### Perform a Mann-Whitney U test to determine if there is a significant difference in the median preferences between the two groups."
   ]
  },
  {
   "cell_type": "code",
   "execution_count": 41,
   "id": "79865a6c-d8c6-4194-bb37-1fb11d5c2e4a",
   "metadata": {},
   "outputs": [
    {
     "name": "stdout",
     "output_type": "stream",
     "text": [
      "p_value: 0.380836480306712\n",
      "There is no significant difference in the median preferences between the two groups.\n"
     ]
    }
   ],
   "source": [
    "Group_A = [4, 3, 5, 2, 4]\n",
    "\n",
    "Group_B = [3, 2, 4, 3, 3]\n",
    "\n",
    "statistic, p_value = scipy.stats.mannwhitneyu(Group_A, Group_B)\n",
    "\n",
    "print(\"p_value:\",p_value)\n",
    "\n",
    "if p_value < 0.05:\n",
    "    print(\"There is a significant difference in the median preferences between the two groups.\")\n",
    "else:\n",
    "    print(\"There is no significant difference in the median preferences between the two groups.\")"
   ]
  },
  {
   "cell_type": "markdown",
   "id": "96724c18-024e-44d5-b2c2-20d14f2df317",
   "metadata": {},
   "source": [
    "### 16. Scenario: A company wants to analyze the distribution of customer ages. The data collected is as follows:\n",
    "    \n",
    "    [25, 30, 35, 40, 45, 50, 55, 60, 65, 70]\n",
    "   \n",
    "#### Calculate the interquartile range (IQR) of the ages."
   ]
  },
  {
   "cell_type": "code",
   "execution_count": 44,
   "id": "48926c4f-7679-4d79-bce2-ea65231a7fea",
   "metadata": {},
   "outputs": [
    {
     "name": "stdout",
     "output_type": "stream",
     "text": [
      "Interquartile range of customer ages: 22.5\n"
     ]
    }
   ],
   "source": [
    "ages = [25, 30, 35, 40, 45, 50, 55, 60, 65, 70]\n",
    "\n",
    "q3 = np.percentile(ages, 75)\n",
    "q1 = np.percentile(ages, 25)\n",
    "\n",
    "iqr = q3 - q1\n",
    "\n",
    "print(\"Interquartile range of customer ages:\", iqr)"
   ]
  },
  {
   "cell_type": "markdown",
   "id": "1b443383-4b1e-4bcb-9a39-da38445be2dd",
   "metadata": {},
   "source": [
    "### 17. Scenario: A study is conducted to compare the performance of three different machine learning algorithms. The accuracy scores for each algorithm are as follows:\n",
    "   \n",
    "   Algorithm A: [0.85, 0.80, 0.82, 0.87, 0.83]\n",
    "   \n",
    "   Algorithm B: [0.78, 0.82, 0.84, 0.80, 0.79]\n",
    "   \n",
    "   Algorithm C: [0.90, 0.88, 0.89, 0.86, 0.87]\n",
    "   \n",
    "#### Perform a Kruskal-Wallis test to determine if there is a significant difference in the median accuracy scores between the algorithms."
   ]
  },
  {
   "cell_type": "code",
   "execution_count": 45,
   "id": "1c2c96a3-fd13-4b68-bf25-3ebdfb120b80",
   "metadata": {},
   "outputs": [
    {
     "name": "stdout",
     "output_type": "stream",
     "text": [
      "p_value: 0.380836480306712\n",
      "There is a significant difference in the median accuracy scores between the algorithms.\n"
     ]
    }
   ],
   "source": [
    "Algorithm_A = [0.85, 0.80, 0.82, 0.87, 0.83]\n",
    "   \n",
    "Algorithm_B = [0.78, 0.82, 0.84, 0.80, 0.79]\n",
    "   \n",
    "Algorithm_C = [0.90, 0.88, 0.89, 0.86, 0.87]\n",
    "   \n",
    "print(\"p_value:\",p_value)\n",
    "\n",
    "statistic, p_value = scipy.stats.kruskal(Algorithm_A, Algorithm_B, Algorithm_C)\n",
    "\n",
    "if p_value < 0.05:\n",
    "    print(\"There is a significant difference in the median accuracy scores between the algorithms.\")\n",
    "else:\n",
    "    print(\"There is no significant difference in the median accuracy scores between the algorithms.\")"
   ]
  },
  {
   "cell_type": "code",
   "execution_count": null,
   "id": "012da6a2-752c-4427-a1db-7b0bb13edfef",
   "metadata": {},
   "outputs": [],
   "source": [
    "### 18. Scenario: A company wants to analyze the effect of price on sales. The data collected is as follows:\n",
    "    \n",
    "    Price (in dollars): [10, 15, 12, 8, 14]\n",
    "   \n",
    "   Sales: [100, 80, 90, 110, 95]\n",
    "    \n",
    "#### Perform a simple linear regression to predict sales based on price."
   ]
  },
  {
   "cell_type": "code",
   "execution_count": 51,
   "id": "fe9202d9-ead1-486a-b894-e6303898ecc2",
   "metadata": {},
   "outputs": [
    {
     "name": "stdout",
     "output_type": "stream",
     "text": [
      "Linear Regression Equation: Sales = -3.51 * Price + 136.37\n",
      "Predicted Sales: [101.31097561  83.7804878   94.29878049 108.32317073  87.28658537]\n"
     ]
    }
   ],
   "source": [
    "Price = np.array([10, 15, 12, 8, 14])\n",
    "   \n",
    "Sales = np.array([100, 80, 90, 110, 95])\n",
    "\n",
    "# Fit the linear regression line\n",
    "slope, intercept = np.polyfit(Price, Sales, 1)\n",
    "\n",
    "# Predict sales based on price\n",
    "predicted_sales = slope * Price + intercept\n",
    "\n",
    "print(\"Linear Regression Equation: Sales = {:.2f} * Price + {:.2f}\".format(slope, intercept))\n",
    "print(\"Predicted Sales:\", predicted_sales)"
   ]
  },
  {
   "cell_type": "markdown",
   "id": "ea67ed17-c478-4cb7-a713-0cf4ab71403d",
   "metadata": {},
   "source": [
    "### 19. Scenario: A survey is conducted to measure the satisfaction levels of customers with a new product. The data collected is as follows:\n",
    "   \n",
    "   [7, 8, 9, 6, 8, 7, 9, 7, 8, 7]\n",
    "   \n",
    "#### Calculate the standard error of the mean satisfaction score."
   ]
  },
  {
   "cell_type": "code",
   "execution_count": 52,
   "id": "a50fce0e-2f6e-42cd-aecc-9bddcf38dfad",
   "metadata": {},
   "outputs": [
    {
     "name": "stdout",
     "output_type": "stream",
     "text": [
      "Standard error of the mean satisfaction score: 0.30550504633038933\n"
     ]
    }
   ],
   "source": [
    "scores = [7, 8, 9, 6, 8, 7, 9, 7, 8, 7]\n",
    "\n",
    "standard_error = stats.sem(scores)\n",
    "\n",
    "print(\"Standard error of the mean satisfaction score:\", standard_error)"
   ]
  },
  {
   "cell_type": "markdown",
   "id": "9d2f73cf-6339-4e73-945b-0a466dc4f55e",
   "metadata": {},
   "source": [
    "### 20. Scenario: A company wants to analyze the relationship between advertising expenditure and sales. The data collected is as follows:\n",
    "\n",
    "    Advertising Expenditure (in thousands): [10, 15, 12, 8, 14]\n",
    "    \n",
    "    Sales (in thousands): [25, 30, 28, 20, 26]\n",
    "    \n",
    "#### Perform a multiple regression analysis to predict sales based on advertising expenditure."
   ]
  },
  {
   "cell_type": "code",
   "execution_count": 55,
   "id": "d5a97443-c7fb-40f1-8442-9128263d3b77",
   "metadata": {},
   "outputs": [],
   "source": [
    "import pandas as pd\n",
    "import statsmodels.api as sm"
   ]
  },
  {
   "cell_type": "code",
   "execution_count": 56,
   "id": "e5ef37f5-d083-469a-b808-4a956eabf665",
   "metadata": {},
   "outputs": [
    {
     "name": "stdout",
     "output_type": "stream",
     "text": [
      "                            OLS Regression Results                            \n",
      "==============================================================================\n",
      "Dep. Variable:                  Sales   R-squared:                       0.767\n",
      "Model:                            OLS   Adj. R-squared:                  0.689\n",
      "Method:                 Least Squares   F-statistic:                     9.872\n",
      "Date:                Sat, 15 Jul 2023   Prob (F-statistic):             0.0516\n",
      "Time:                        09:10:40   Log-Likelihood:                -9.5288\n",
      "No. Observations:                   5   AIC:                             23.06\n",
      "Df Residuals:                       3   BIC:                             22.28\n",
      "Df Model:                           1                                         \n",
      "Covariance Type:            nonrobust                                         \n",
      "===========================================================================================\n",
      "                              coef    std err          t      P>|t|      [0.025      0.975]\n",
      "-------------------------------------------------------------------------------------------\n",
      "Intercept                  12.2012      4.429      2.755      0.070      -1.893      26.296\n",
      "Advertising Expenditure     1.1524      0.367      3.142      0.052      -0.015       2.320\n",
      "==============================================================================\n",
      "Omnibus:                          nan   Durbin-Watson:                   1.136\n",
      "Prob(Omnibus):                    nan   Jarque-Bera (JB):                0.546\n",
      "Skew:                          -0.267   Prob(JB):                        0.761\n",
      "Kurtosis:                       1.471   Cond. No.                         57.3\n",
      "==============================================================================\n",
      "\n",
      "Notes:\n",
      "[1] Standard Errors assume that the covariance matrix of the errors is correctly specified.\n"
     ]
    },
    {
     "name": "stderr",
     "output_type": "stream",
     "text": [
      "/opt/conda/lib/python3.10/site-packages/statsmodels/stats/stattools.py:74: ValueWarning: omni_normtest is not valid with less than 8 observations; 5 samples were given.\n",
      "  warn(\"omni_normtest is not valid with less than 8 observations; %i \"\n"
     ]
    }
   ],
   "source": [
    "# Data\n",
    "Advertising_Expenditure = [10, 15, 12, 8, 14]\n",
    "Sales = [25, 30, 28, 20, 26]\n",
    "\n",
    "# Create a DataFrame to hold the data\n",
    "data = pd.DataFrame({'Advertising Expenditure': Advertising_Expenditure, 'Sales': Sales})\n",
    "\n",
    "# Add a constant term for the intercept in the regression model\n",
    "data['Intercept'] = 1\n",
    "\n",
    "# Create the multiple regression model\n",
    "model = sm.OLS(data['Sales'], data[['Intercept', 'Advertising Expenditure']])\n",
    "\n",
    "# Fit the model to the data\n",
    "results = model.fit()\n",
    "\n",
    "# Print the regression summary\n",
    "print(results.summary())\n"
   ]
  },
  {
   "cell_type": "code",
   "execution_count": null,
   "id": "6e9808b0-7daf-497f-b64b-f2a30c31b73c",
   "metadata": {},
   "outputs": [],
   "source": []
  }
 ],
 "metadata": {
  "kernelspec": {
   "display_name": "Python 3 (ipykernel)",
   "language": "python",
   "name": "python3"
  },
  "language_info": {
   "codemirror_mode": {
    "name": "ipython",
    "version": 3
   },
   "file_extension": ".py",
   "mimetype": "text/x-python",
   "name": "python",
   "nbconvert_exporter": "python",
   "pygments_lexer": "ipython3",
   "version": "3.10.8"
  }
 },
 "nbformat": 4,
 "nbformat_minor": 5
}
